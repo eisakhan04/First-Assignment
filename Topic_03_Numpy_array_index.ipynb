{
  "nbformat": 4,
  "nbformat_minor": 0,
  "metadata": {
    "colab": {
      "provenance": [],
      "authorship_tag": "ABX9TyOKiQZR+a9MO+djsURjFTgr",
      "include_colab_link": true
    },
    "kernelspec": {
      "name": "python3",
      "display_name": "Python 3"
    },
    "language_info": {
      "name": "python"
    }
  },
  "cells": [
    {
      "cell_type": "markdown",
      "metadata": {
        "id": "view-in-github",
        "colab_type": "text"
      },
      "source": [
        "<a href=\"https://colab.research.google.com/github/onlyone11s/First-Assignment/blob/main/Topic_03_Numpy_array_index.ipynb\" target=\"_parent\"><img src=\"https://colab.research.google.com/assets/colab-badge.svg\" alt=\"Open In Colab\"/></a>"
      ]
    },
    {
      "cell_type": "markdown",
      "source": [
        "# **Topic 03: Numpy array index**\n",
        "NumPy is a popular Python library used for scientific computing, particularly for numerical operations and data analysis. One of the most important features of NumPy is its powerful array indexing capabilities.\n",
        "\n",
        "Array indexing refers to the way in which elements of an array are selected and manipulated. In NumPy, arrays can be indexed using various methods, such as slicing, fancy indexing, and boolean indexing. Slicing involves selecting a range of elements from an array, while fancy indexing allows you to select elements using a list or array of indices. Boolean indexing involves selecting elements based on a condition or logical expression.\n",
        "\n",
        "NumPy array indexing can be used for a wide range of tasks, such as filtering data, selecting specific elements from an array, and performing mathematical operations on subsets of an array. With its efficient array indexing capabilities, NumPy is an essential tool for many scientific and data analysis applications in Python.\n",
        "To access elements or subsets of a NumPy array, you can use indexing. NumPy provides several ways to index arrays, including basic indexing, advanced indexing, and Boolean indexing."
      ],
      "metadata": {
        "id": "cCEIjqAgmdE9"
      }
    },
    {
      "cell_type": "markdown",
      "source": [
        "# Basic Indexing:\n",
        "Basic indexing involves accessing elements at specific indices using square brackets [].\n",
        "The indices start from 0 for the first element."
      ],
      "metadata": {
        "id": "OigWgGHCKHGZ"
      }
    },
    {
      "cell_type": "markdown",
      "source": [
        "***(01) index one-dimension Array***"
      ],
      "metadata": {
        "id": "APkXKGMcCvPB"
      }
    },
    {
      "cell_type": "markdown",
      "source": [
        "**Example**"
      ],
      "metadata": {
        "id": "KFXRIEaeC9Pc"
      }
    },
    {
      "cell_type": "code",
      "source": [
        "import numpy as np\n",
        "a = np.array([2,3,5,6,7,8])\n",
        "print(a[0])\n"
      ],
      "metadata": {
        "colab": {
          "base_uri": "https://localhost:8080/"
        },
        "id": "gZMDZ0Rrmsev",
        "outputId": "b9277a4e-4a2c-4546-84f3-bbdb1e615463"
      },
      "execution_count": 36,
      "outputs": [
        {
          "output_type": "stream",
          "name": "stdout",
          "text": [
            "2\n"
          ]
        }
      ]
    },
    {
      "cell_type": "markdown",
      "source": [
        "This code imports the NumPy library and creates a NumPy array called a with the elements [2, 3, 5, 6, 7, 8]. The print(a[0]) statement is used to access and print the first element of the array, which has an index of 0."
      ],
      "metadata": {
        "id": "6mOq-LtvDGje"
      }
    },
    {
      "cell_type": "markdown",
      "source": [
        "***index (negative)1-D Array***"
      ],
      "metadata": {
        "id": "asSXV76FE1hy"
      }
    },
    {
      "cell_type": "code",
      "source": [
        "import numpy as np\n",
        "a = np.array([2,3,5,6,7,8])\n",
        "print(a[-4])\n"
      ],
      "metadata": {
        "colab": {
          "base_uri": "https://localhost:8080/"
        },
        "id": "LsIyW1m6o_ZR",
        "outputId": "85792ac9-e77e-44a8-ee12-b820e7a4740d"
      },
      "execution_count": 8,
      "outputs": [
        {
          "output_type": "stream",
          "name": "stdout",
          "text": [
            "5\n"
          ]
        }
      ]
    },
    {
      "cell_type": "markdown",
      "source": [
        "***(02) index Two-dimension Array***"
      ],
      "metadata": {
        "id": "19P6DoDPDf3S"
      }
    },
    {
      "cell_type": "markdown",
      "source": [
        "This code builds a 2-dimensional NumPy array called a and imports the NumPy library. There are three rows and six columns in the array a."
      ],
      "metadata": {
        "id": "pUajRv79F9YW"
      }
    },
    {
      "cell_type": "code",
      "source": [
        "import numpy as np\n",
        "a = np.array([[2,3,5,6,7,8],[9,11,12,13,14,15],[2,7,9,10,11,12]])\n",
        "print(a[2,4])\n"
      ],
      "metadata": {
        "colab": {
          "base_uri": "https://localhost:8080/"
        },
        "id": "Km1Ttxmkp5XS",
        "outputId": "b6ded299-23c2-46dc-acee-e73895d5e64f"
      },
      "execution_count": 18,
      "outputs": [
        {
          "output_type": "stream",
          "name": "stdout",
          "text": [
            "11\n"
          ]
        }
      ]
    },
    {
      "cell_type": "markdown",
      "source": [
        "he third row (index 2) and fifth column (index 4) of the array an are intersected by an element, which can be accessed and printed using the print(a[2, 4]) command."
      ],
      "metadata": {
        "id": "iHgxKfUlGsnn"
      }
    },
    {
      "cell_type": "markdown",
      "source": [
        "**index (negative)2-D Array**"
      ],
      "metadata": {
        "id": "5P3wlk2IGx2a"
      }
    },
    {
      "cell_type": "markdown",
      "source": [
        "In this code, we have a 2-dimensional NumPy array called a with three rows and six columns"
      ],
      "metadata": {
        "id": "ODiC_PFmHxPC"
      }
    },
    {
      "cell_type": "code",
      "source": [
        "import numpy as np\n",
        "a = np.array([[2,3,5,6,7,8],[9,11,12,13,14,15],[2,7,9,10,11,12]])\n",
        "print(a[-3,-4])"
      ],
      "metadata": {
        "colab": {
          "base_uri": "https://localhost:8080/"
        },
        "id": "6n5qLVk9rn14",
        "outputId": "f72c781a-5d58-47fa-d230-e4f75d92bf47"
      },
      "execution_count": 21,
      "outputs": [
        {
          "output_type": "stream",
          "name": "stdout",
          "text": [
            "5\n"
          ]
        }
      ]
    },
    {
      "cell_type": "markdown",
      "source": [
        "The print(a[-3, -4]) statement is used to access and print the element at the intersection of the third row from the end (index -3) and the fourth column from the end (index -4) of the array a."
      ],
      "metadata": {
        "id": "0UuBg_K8Hzmz"
      }
    },
    {
      "cell_type": "markdown",
      "source": [
        "**(03) index Three-dimension Array**"
      ],
      "metadata": {
        "id": "YVYTeiNYHNjF"
      }
    },
    {
      "cell_type": "markdown",
      "source": [
        "In this code, we have a 3-dimensional NumPy array called a. The array a has two blocks, each containing two rows and six columns"
      ],
      "metadata": {
        "id": "Qm8to5W2I5wp"
      }
    },
    {
      "cell_type": "code",
      "source": [
        "import numpy as np\n",
        "a = np.array([[[2,3,5,6,7,8],[9,11,12,13,14,15]],[[2,7,9,10,11,12],[13,14,15,16,17,18]]])\n",
        "print(a[1,1,2])"
      ],
      "metadata": {
        "colab": {
          "base_uri": "https://localhost:8080/"
        },
        "id": "YwkSQjvJsIdq",
        "outputId": "d5fb859e-1d8e-4d89-f6f5-51086840d39d"
      },
      "execution_count": 25,
      "outputs": [
        {
          "output_type": "stream",
          "name": "stdout",
          "text": [
            "15\n"
          ]
        }
      ]
    },
    {
      "cell_type": "markdown",
      "source": [
        "The print(a[1, 1, 2]) statement is used to access and print the element at the intersection of the second block (index 1), second row (index 1), and third column (index 2) of the array a."
      ],
      "metadata": {
        "id": "7z0BYlcpI8Dh"
      }
    },
    {
      "cell_type": "markdown",
      "source": [
        "**index (negative)3-D Array**"
      ],
      "metadata": {
        "id": "T4g4OX1oJI85"
      }
    },
    {
      "cell_type": "code",
      "source": [
        "import numpy as np\n",
        "a = np.array([[[2,3,5,6,7,8],[9,11,12,13,14,15]],[[2,7,9,10,11,12],[13,14,15,16,17,18]]])\n",
        "print(a[-2,-1,2])"
      ],
      "metadata": {
        "colab": {
          "base_uri": "https://localhost:8080/"
        },
        "id": "aH9InbvctnyY",
        "outputId": "f9bb1e9b-ea31-4b35-bd77-9587643a9d86"
      },
      "execution_count": 26,
      "outputs": [
        {
          "output_type": "stream",
          "name": "stdout",
          "text": [
            "12\n"
          ]
        }
      ]
    },
    {
      "cell_type": "markdown",
      "source": [
        "**(04) index Four-dimension Array**\n",
        "\n"
      ],
      "metadata": {
        "id": "DjJ8ixPKIHfu"
      }
    },
    {
      "cell_type": "code",
      "source": [
        "import numpy as np\n",
        "a = np.array([[[[2,3,5,6,7,8]]]])\n",
        "print(a[0,-1,0,2])"
      ],
      "metadata": {
        "colab": {
          "base_uri": "https://localhost:8080/"
        },
        "id": "UQTuKMIrt8aI",
        "outputId": "733e29f3-4242-4b6a-e017-ec57595aba57"
      },
      "execution_count": 39,
      "outputs": [
        {
          "output_type": "stream",
          "name": "stdout",
          "text": [
            "5\n"
          ]
        }
      ]
    },
    {
      "cell_type": "markdown",
      "source": [
        "In this code, we have a 4-dimensional NumPy array called a. The array a contains a single element, which is a 1-dimensional array [2, 3, 5, 6, 7, 8]. The shape of a is (1, 1, 1, 6).\n",
        "\n",
        "The print(a[0, -1, 0, 2]) statement is used to access and print the element at the intersection of the first dimension with index 0, the second dimension with index -1, the third dimension with index 0, and the fourth dimension with index 2 of the array a."
      ],
      "metadata": {
        "id": "bXk-n34TJZWi"
      }
    },
    {
      "cell_type": "markdown",
      "source": [
        "**Update the array by indexing**"
      ],
      "metadata": {
        "id": "AWwwxc-lK2wo"
      }
    },
    {
      "cell_type": "code",
      "source": [
        "import numpy as np\n",
        "\n",
        "arr = np.array([1, 2, 3, 4, 5])\n",
        "\n",
        "# Accessing a single element\n",
        "print(arr[2])  # Output: 3\n",
        "\n",
        "# Modifying a single element\n",
        "arr[2] = 10\n",
        "print(arr)  # Output: [1 2 10 4 5]"
      ],
      "metadata": {
        "colab": {
          "base_uri": "https://localhost:8080/"
        },
        "id": "kB715LlZKtSr",
        "outputId": "d7241d30-06cc-4ccf-8e65-5afee8f0e561"
      },
      "execution_count": 1,
      "outputs": [
        {
          "output_type": "stream",
          "name": "stdout",
          "text": [
            "3\n",
            "[ 1  2 10  4  5]\n"
          ]
        }
      ]
    },
    {
      "cell_type": "markdown",
      "source": [
        "# Boolean Indexing:\n",
        "Boolean indexing involves using a boolean array of the same shape as the original array to select elements.\n",
        "Elements corresponding to True values in the boolean array are selected."
      ],
      "metadata": {
        "id": "oYeMXcvKLVI-"
      }
    },
    {
      "cell_type": "code",
      "source": [
        "import numpy as np\n",
        "\n",
        "arr = np.array([1, 2, 3, 4, 5])\n",
        "bool_arr = np.array([True, False, True, False, True])\n",
        "\n",
        "# Accessing elements using a boolean array\n",
        "print(arr[bool_arr])  # Output: [1 3 5]\n",
        "\n",
        "# Modifying elements using a boolean array\n",
        "arr[bool_arr] = 10\n",
        "print(arr)  # Output: [10 2 10 4 10]"
      ],
      "metadata": {
        "colab": {
          "base_uri": "https://localhost:8080/"
        },
        "id": "IL5ujLQFLceS",
        "outputId": "c25bbe4f-615a-4fcf-8c03-9bd261ab84a3"
      },
      "execution_count": 2,
      "outputs": [
        {
          "output_type": "stream",
          "name": "stdout",
          "text": [
            "[1 3 5]\n",
            "[10  2 10  4 10]\n"
          ]
        }
      ]
    }
  ]
}
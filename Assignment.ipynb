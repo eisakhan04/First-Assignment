{
  "nbformat": 4,
  "nbformat_minor": 0,
  "metadata": {
    "colab": {
      "provenance": [],
      "authorship_tag": "ABX9TyMpoigCH4tiXDmj9ubdT/MJ",
      "include_colab_link": true
    },
    "kernelspec": {
      "name": "python3",
      "display_name": "Python 3"
    },
    "language_info": {
      "name": "python"
    }
  },
  "cells": [
    {
      "cell_type": "markdown",
      "metadata": {
        "id": "view-in-github",
        "colab_type": "text"
      },
      "source": [
        "<a href=\"https://colab.research.google.com/github/onlyone11s/First-Assignment/blob/main/Assignment.ipynb\" target=\"_parent\"><img src=\"https://colab.research.google.com/assets/colab-badge.svg\" alt=\"Open In Colab\"/></a>"
      ]
    },
    {
      "cell_type": "markdown",
      "source": [
        "# 1:Write a program to find the largest , smallest and average of n whole numbers. You can assume that \"n\" has already been set by the user.\n",
        "write program method\n",
        "\n",
        "1. Ask the user to enter the value of n.\n",
        "2. initilize variable for largest ,smallest and sum.\n",
        "3. Use a for loop to get n numbers from the user.\n",
        "4. Find the largest number by using the max() function on the list.\n",
        "5. Find the smallest number by using the min() function on the list.\n",
        "6. Find the average of the numbers.\n",
        "7. Print out the largest number, smallest number, and average of the numbers"
      ],
      "metadata": {
        "id": "A_cg--1BEweD"
      }
    },
    {
      "cell_type": "code",
      "source": [
        "# enter the value of n\n",
        "n = int(input(\" Enter the number of element: \"))\n",
        "# Declear empty list\n",
        "l1 = list()\n",
        "# for loop\n",
        "for i in range(n):\n",
        "\n",
        "  ele=int(input(\"Enter the number: \"))\n",
        "  l1.append(ele)\n",
        "\n",
        "s=sum(l1)\n",
        "smallest = min(l1)\n",
        "largest = max(l1)\n",
        "avg = s/len(l1)\n",
        "\n",
        "print(\"Smallest Number: \", smallest)\n",
        "print(\"Largest Number: \" , largest)\n",
        "print(\"Average of the  Number: \" , avg)\n"
      ],
      "metadata": {
        "colab": {
          "base_uri": "https://localhost:8080/"
        },
        "id": "hMtoUrEgCEvO",
        "outputId": "bda2f24c-a934-40e3-c56a-5860940b17f5"
      },
      "execution_count": 7,
      "outputs": [
        {
          "output_type": "stream",
          "name": "stdout",
          "text": [
            " Enter the number of element: 2\n",
            "Enter the number: 1\n",
            "Enter the number: 2\n",
            "Smallest Number:  1\n",
            "Largest Number:  2\n",
            "Average of the  Number:  1.5\n"
          ]
        }
      ]
    },
    {
      "cell_type": "markdown",
      "source": [
        "#2: write a program that will ask the user a question with four possible answers. The question should be asked 20 times .After all the input is gathered , the program     should output the number of times each answer was selected.\n"
      ],
      "metadata": {
        "id": "tx3F-N_eROul"
      }
    },
    {
      "cell_type": "code",
      "source": [
        "# Define the question and answer options\n",
        "question = \"What is your favorite color?\"\n",
        "options = [\"Red\", \"Blue\", \"Green\", \"Yellow\"]\n",
        "\n",
        "# Initialize a dictionary to store the counts of each answer\n",
        "answer_counts = {option: 0 for option in options}\n",
        "\n",
        "# Repeat the question 20 times\n",
        "for _ in range(20):\n",
        "    print(question)\n",
        "\n",
        "    # Display answer options\n",
        "    for i, option in enumerate(options):\n",
        "        print(\"{}. {}\".format(i + 1, option))\n",
        "\n",
        "    # Get user's choice\n",
        "    choice = int(input(\"Enter your choice (1-4): \"))\n",
        "\n",
        "    # Increment the count for the selected answer\n",
        "    answer_counts[options[choice - 1]] += 1\n",
        "\n",
        "# Display the answer counts\n",
        "print(\"\\nAnswer counts:\")\n",
        "for option, count in answer_counts.items():\n",
        "    print(\"{}: {}\".format(option, count))"
      ],
      "metadata": {
        "colab": {
          "base_uri": "https://localhost:8080/"
        },
        "id": "PhuhT9uYRXf6",
        "outputId": "e3e79d91-0c6b-46ad-b8ac-e3f432a1f00e"
      },
      "execution_count": 25,
      "outputs": [
        {
          "output_type": "stream",
          "name": "stdout",
          "text": [
            "What is your favorite color?\n",
            "1. Red\n",
            "2. Blue\n",
            "3. Green\n",
            "4. Yellow\n",
            "Enter your choice (1-4): 3\n",
            "What is your favorite color?\n",
            "1. Red\n",
            "2. Blue\n",
            "3. Green\n",
            "4. Yellow\n",
            "Enter your choice (1-4): 3\n",
            "What is your favorite color?\n",
            "1. Red\n",
            "2. Blue\n",
            "3. Green\n",
            "4. Yellow\n",
            "Enter your choice (1-4): 1\n",
            "What is your favorite color?\n",
            "1. Red\n",
            "2. Blue\n",
            "3. Green\n",
            "4. Yellow\n",
            "Enter your choice (1-4): 2\n",
            "What is your favorite color?\n",
            "1. Red\n",
            "2. Blue\n",
            "3. Green\n",
            "4. Yellow\n",
            "Enter your choice (1-4): 4\n",
            "What is your favorite color?\n",
            "1. Red\n",
            "2. Blue\n",
            "3. Green\n",
            "4. Yellow\n",
            "Enter your choice (1-4): 4\n",
            "What is your favorite color?\n",
            "1. Red\n",
            "2. Blue\n",
            "3. Green\n",
            "4. Yellow\n",
            "Enter your choice (1-4): 2\n",
            "What is your favorite color?\n",
            "1. Red\n",
            "2. Blue\n",
            "3. Green\n",
            "4. Yellow\n",
            "Enter your choice (1-4): 2\n",
            "What is your favorite color?\n",
            "1. Red\n",
            "2. Blue\n",
            "3. Green\n",
            "4. Yellow\n",
            "Enter your choice (1-4): 3\n",
            "What is your favorite color?\n",
            "1. Red\n",
            "2. Blue\n",
            "3. Green\n",
            "4. Yellow\n",
            "Enter your choice (1-4): 3\n",
            "What is your favorite color?\n",
            "1. Red\n",
            "2. Blue\n",
            "3. Green\n",
            "4. Yellow\n",
            "Enter your choice (1-4): 2\n",
            "What is your favorite color?\n",
            "1. Red\n",
            "2. Blue\n",
            "3. Green\n",
            "4. Yellow\n",
            "Enter your choice (1-4): 2\n",
            "What is your favorite color?\n",
            "1. Red\n",
            "2. Blue\n",
            "3. Green\n",
            "4. Yellow\n",
            "Enter your choice (1-4): 1\n",
            "What is your favorite color?\n",
            "1. Red\n",
            "2. Blue\n",
            "3. Green\n",
            "4. Yellow\n",
            "Enter your choice (1-4): 2\n",
            "What is your favorite color?\n",
            "1. Red\n",
            "2. Blue\n",
            "3. Green\n",
            "4. Yellow\n",
            "Enter your choice (1-4): 2\n",
            "What is your favorite color?\n",
            "1. Red\n",
            "2. Blue\n",
            "3. Green\n",
            "4. Yellow\n",
            "Enter your choice (1-4): 2\n",
            "What is your favorite color?\n",
            "1. Red\n",
            "2. Blue\n",
            "3. Green\n",
            "4. Yellow\n",
            "Enter your choice (1-4): 2\n",
            "What is your favorite color?\n",
            "1. Red\n",
            "2. Blue\n",
            "3. Green\n",
            "4. Yellow\n",
            "Enter your choice (1-4): 1\n",
            "What is your favorite color?\n",
            "1. Red\n",
            "2. Blue\n",
            "3. Green\n",
            "4. Yellow\n",
            "Enter your choice (1-4): 3\n",
            "What is your favorite color?\n",
            "1. Red\n",
            "2. Blue\n",
            "3. Green\n",
            "4. Yellow\n",
            "Enter your choice (1-4): 3\n",
            "\n",
            "Answer counts:\n",
            "Red: 3\n",
            "Blue: 9\n",
            "Green: 6\n",
            "Yellow: 2\n"
          ]
        }
      ]
    },
    {
      "cell_type": "markdown",
      "source": [
        "#3:write a program that inputs a series of 20 numbers and displays the minimum value."
      ],
      "metadata": {
        "id": "0fomHv55WpWz"
      }
    },
    {
      "cell_type": "code",
      "source": [
        "#Initialize the minimum value with positive infinity\n",
        "minimum = float('inf')\n",
        "\n",
        "#Input the series of 20 numbers\n",
        "for i in range(20):\n",
        "    num = int(input(\"Enter number :\"))\n",
        "\n",
        "#Check if the current number is smaller than the current minimum\n",
        "    if num < minimum:\n",
        "        minimum = num\n",
        "\n",
        "#display the minimum value\n",
        "print(\"The minimum value is:\", minimum)"
      ],
      "metadata": {
        "colab": {
          "base_uri": "https://localhost:8080/"
        },
        "id": "rb_NqXx1tVkI",
        "outputId": "4356bf4a-a6ce-4329-9ee8-1dd42ba4217d"
      },
      "execution_count": 2,
      "outputs": [
        {
          "output_type": "stream",
          "name": "stdout",
          "text": [
            "Enter number 1: 56\n",
            "Enter number 2: 566\n",
            "Enter number 3: 78\n",
            "Enter number 4: 67\n",
            "Enter number 5: 66\n",
            "Enter number 6: 88\n",
            "Enter number 7: 33\n",
            "Enter number 8: 55\n",
            "Enter number 9: 99\n",
            "Enter number 10: 44\n",
            "Enter number 11: 264\n",
            "Enter number 12: 23\n",
            "Enter number 13: 434\n",
            "Enter number 14: 55\n",
            "Enter number 15: 66\n",
            "Enter number 16: 67\n",
            "Enter number 17: 65\n",
            "Enter number 18: 36\n",
            "Enter number 19: 21\n",
            "Enter number 20: 44\n",
            "The minimum value is: 21\n"
          ]
        }
      ]
    },
    {
      "cell_type": "markdown",
      "source": [
        "#4: write a program that inputs a number from the user and displays fiboncci series up to the number entered.\n",
        "\n",
        "#*what is Fibonacci series\n",
        "Ans: 0+1=1\n",
        "    1+1=2\n",
        "    1+2 =3\n",
        "    2+3 =5\n",
        "    3+5=8\n",
        "    5+8 =13\n",
        "    etc\n"
      ],
      "metadata": {
        "id": "hPYCCIP_vC16"
      }
    },
    {
      "cell_type": "code",
      "source": [
        "n= int(input(\"Enter Number: \"))\n",
        "x=0\n",
        "y=1\n",
        "z=0\n",
        "while z<=n :\n",
        "  print(z)\n",
        "  x=y\n",
        "  y=z\n",
        "  z=x+y"
      ],
      "metadata": {
        "colab": {
          "base_uri": "https://localhost:8080/"
        },
        "id": "jmya-zVy_wfB",
        "outputId": "23706307-d845-41b4-bddd-78f6acc0b9a9"
      },
      "execution_count": 3,
      "outputs": [
        {
          "output_type": "stream",
          "name": "stdout",
          "text": [
            "Enter Number: 20\n",
            "0\n",
            "1\n",
            "1\n",
            "2\n",
            "3\n",
            "5\n",
            "8\n",
            "13\n"
          ]
        }
      ]
    },
    {
      "cell_type": "markdown",
      "source": [
        "#5: write a program that inputs a number from the user and displays all armstrong numbers up to the number entered.\n",
        "* What is Armstrong number\n",
        "* Ans: 153  the number cube is 3 is power of number\n",
        "* 1(3) , 5(3) , 3(3)\n",
        ""
      ],
      "metadata": {
        "id": "c9e2TrafF0LV"
      }
    },
    {
      "cell_type": "code",
      "source": [
        "i = int(input(\"Enter the Number to check for armstrong: \"))\n",
        "# save orignal number\n",
        "orignal_no = i\n",
        "sum = 0\n",
        "\n",
        "while i > 0 :\n",
        "  # cube is out\n",
        "  sum=sum+(i%10)*(i%10)*(i%10)\n",
        "  i=i//10\n",
        "if orignal_no == sum :\n",
        "    print(\"Number is Armstrong\")\n",
        "else:\n",
        "  print(\"Number is not Armstrong\")\n"
      ],
      "metadata": {
        "colab": {
          "base_uri": "https://localhost:8080/"
        },
        "id": "TW__BmExF0yl",
        "outputId": "35d84c45-2e7e-4b6e-8ea3-3073055ecb68"
      },
      "execution_count": 13,
      "outputs": [
        {
          "output_type": "stream",
          "name": "stdout",
          "text": [
            "Enter the Number to check for armstrong: 153\n",
            "Number is Armstrong\n"
          ]
        }
      ]
    },
    {
      "cell_type": "markdown",
      "source": [
        "#6: write a program that inputs a number from the user and displays all perfect numbers up to the number entered.\n",
        "* what is Perfect Number\n",
        "* n=6\n",
        "* 6: 1 , 2 , 3\n",
        "* sum of factor : 1 + 2 + 3 = 6 (given number)\n",
        "* finding Factor 6%1=0 , 6%2=0 , 6%3=0 ,\n",
        "* this is no mod 6%4=2 , 6%5=1\n",
        "* that 6 is perfect number\n",
        "* Perfect number is = 6, 28,496, 8128\n"
      ],
      "metadata": {
        "id": "lPdFGj6BNVeV"
      }
    },
    {
      "cell_type": "code",
      "source": [
        "n = int(input(\"Enter Number : \"))\n",
        "sum = 0\n",
        "for i in range(1,n) :\n",
        "  if n%i == 0:\n",
        "    print(i,end= \" \")\n",
        "    sum = sum+i\n",
        "if sum == n:\n",
        "  print(\"\\n\",n, \"is a Perfect Number\")\n",
        "else:\n",
        "  print(\"\\n\",n, \"is not a Perfect Number \")\n"
      ],
      "metadata": {
        "colab": {
          "base_uri": "https://localhost:8080/"
        },
        "id": "vMHc_d_pNx3b",
        "outputId": "666763b2-5752-4dc4-9139-0a119a9a6165"
      },
      "execution_count": 34,
      "outputs": [
        {
          "output_type": "stream",
          "name": "stdout",
          "text": [
            "Enter Number : 496\n",
            "1 2 4 8 16 31 62 124 248 \n",
            " 496 is a Perfect Number\n"
          ]
        }
      ]
    },
    {
      "cell_type": "markdown",
      "source": [
        " write a program that inputs a number of the students in the class .It then inputs the marks of these student and display the highest and second highest marks .\n"
      ],
      "metadata": {
        "id": "X0_PhzHdToex"
      }
    },
    {
      "cell_type": "code",
      "source": [
        "# Input the number of students in the class\n",
        "num_students = int(input(\"Enter the number of students in the class: \"))\n",
        "\n",
        "# Initialize variables for highest and second highest marks\n",
        "highest = float(\"-inf\")\n",
        "second_highest = float(\"-inf\")\n",
        "\n",
        "# Input the marks of each student\n",
        "for i in range(num_students):\n",
        "    marks = float(input(\"Enter the marks for student \"))\n",
        "\n",
        "# Update the highest and second highest marks\n",
        "    if marks > highest:\n",
        "        second_highest = highest\n",
        "        highest = marks\n",
        "    elif marks > second_highest and marks < highest:\n",
        "        second_highest = marks\n",
        "\n",
        "# Display the highest and second highest marks\n",
        "print(\"Highest marks:\", highest)\n",
        "print(\"Second highest marks:\", second_highest)"
      ],
      "metadata": {
        "colab": {
          "base_uri": "https://localhost:8080/"
        },
        "id": "I_nTP6deTpC5",
        "outputId": "8f5a706a-6b60-4da3-c8c1-0a8973aa21e3"
      },
      "execution_count": 36,
      "outputs": [
        {
          "output_type": "stream",
          "name": "stdout",
          "text": [
            "Enter the number of students in the class: 2\n",
            "Enter the marks for student 345\n",
            "Enter the marks for student 324\n",
            "Highest marks: 345.0\n",
            "Second highest marks: 324.0\n"
          ]
        }
      ]
    },
    {
      "cell_type": "markdown",
      "source": [
        "#write a program that calculates and prints the average of several integers. assume that the last value read is sentinel 9999. A typical inputs sequnce might be 10 8 6  7 2 9999 indicating that  average of all value preceding 9999 is required.\n"
      ],
      "metadata": {
        "id": "wdW2LpaWXF4b"
      }
    },
    {
      "cell_type": "code",
      "source": [
        "# Initialize variables for sum and count\n",
        "total = 0\n",
        "count = 0\n",
        "\n",
        "# Input the integers\n",
        "while True:\n",
        "    num = int(input(\"Enter an integer (or 9999 to exit): \"))\n",
        "\n",
        "    # Check if the sentinel value is entered\n",
        "    if num == 9999:\n",
        "        break\n",
        "\n",
        "    # Update the sum and count\n",
        "    total += num\n",
        "    count += 1\n",
        "\n",
        "# Calculate and print the average\n",
        "if count > 0:\n",
        "    average = total / count\n",
        "    print(\"The average of the entered integers is:\", average)\n",
        "else:\n",
        "    print(\"No integers were entered.\")"
      ],
      "metadata": {
        "colab": {
          "base_uri": "https://localhost:8080/"
        },
        "id": "fg8kjEnmXMdz",
        "outputId": "f6f0b677-a996-4d7c-c130-874aff63faf9"
      },
      "execution_count": 37,
      "outputs": [
        {
          "output_type": "stream",
          "name": "stdout",
          "text": [
            "Enter an integer (or 9999 to exit): 50\n",
            "Enter an integer (or 9999 to exit): 50\n",
            "Enter an integer (or 9999 to exit): 50\n",
            "Enter an integer (or 9999 to exit): 9999\n",
            "The average of the entered integers is: 50.0\n"
          ]
        }
      ]
    },
    {
      "cell_type": "markdown",
      "source": [
        "#9: write a program that inputs a number from the user and displays all prime numbers which are less than inputs a number using any loop.\n"
      ],
      "metadata": {
        "id": "Vxm6lWSkYA5L"
      }
    },
    {
      "cell_type": "code",
      "source": [
        "n=int(input(\"Enter number: \"))\n",
        "count = 0\n",
        "i=1\n",
        "while i <= n:\n",
        "       if n % i == 0:\n",
        "         count=count+1\n",
        "       i=i+1\n",
        "if count==2:\n",
        "  print(\"Prime Number \")\n",
        "else:\n",
        "  print(\"composite number\")"
      ],
      "metadata": {
        "colab": {
          "base_uri": "https://localhost:8080/"
        },
        "id": "yDdcU9V-YH23",
        "outputId": "90210b68-0356-49cc-b307-151c9c42e7d0"
      },
      "execution_count": 47,
      "outputs": [
        {
          "output_type": "stream",
          "name": "stdout",
          "text": [
            "Enter number: 11\n",
            "Prime Number \n"
          ]
        }
      ]
    },
    {
      "cell_type": "markdown",
      "source": [
        "#11: write a program that inputs integers and displays weather it is a prime number or not"
      ],
      "metadata": {
        "id": "STxO2lFAcanV"
      }
    },
    {
      "cell_type": "code",
      "source": [
        "n=int(input(\"Enter number: \"))\n",
        "count = 0\n",
        "i=1\n",
        "while i <= n:\n",
        "       if n % i == 0:\n",
        "         count=count+1\n",
        "       i=i+1\n",
        "if count==2:\n",
        "  print(\"Prime Number \")\n",
        "else:\n",
        "  print(\"NOT Pirme  number\")"
      ],
      "metadata": {
        "colab": {
          "base_uri": "https://localhost:8080/"
        },
        "id": "H5A8NL5gc4tq",
        "outputId": "af9bd157-bbfe-4190-a803-de68ba580c9e"
      },
      "execution_count": 48,
      "outputs": [
        {
          "output_type": "stream",
          "name": "stdout",
          "text": [
            "Enter number: 112\n",
            "NOT Pirme  number\n"
          ]
        }
      ]
    },
    {
      "cell_type": "markdown",
      "source": [
        "#10: write a program that inputs a number from the user and displays its factorial. its asks the user weather he wants to calculate another factorial or not.if the user input 1 , it again inputs number and calculates factorial .if user inputs 0 , program terminates.\n"
      ],
      "metadata": {
        "id": "zBZBYRguckao"
      }
    },
    {
      "cell_type": "code",
      "source": [
        "# Function to calculate the factorial of a number\n",
        "def factorial(num):\n",
        "    if num == 0:\n",
        "        return 1\n",
        "\n",
        "    fact = 1\n",
        "    for i in range(1, num + 1):\n",
        "        fact *= i\n",
        "    return fact\n",
        "\n",
        "# Input the number from the user\n",
        "number = int(input(\"Enter a number: \"))\n",
        "\n",
        "# Calculate and display the factorial\n",
        "fact = factorial(number)\n",
        "print(\"Factorial of\", number, \"is\", fact)"
      ],
      "metadata": {
        "colab": {
          "base_uri": "https://localhost:8080/"
        },
        "id": "S_EJXLafc4K2",
        "outputId": "b61f369a-fc9b-423c-e25c-59fc3b96c28e"
      },
      "execution_count": 49,
      "outputs": [
        {
          "output_type": "stream",
          "name": "stdout",
          "text": [
            "Enter a number: 5\n",
            "Factorial of 5 is 120\n"
          ]
        }
      ]
    },
    {
      "cell_type": "markdown",
      "source": [
        "#12: write a program that continusly inputs positive  integers values from the user . the user enter a zero to show that he has no more values to enter . the program should finally display the second largest number entered."
      ],
      "metadata": {
        "id": "8Dd3n6EEcxdj"
      }
    },
    {
      "cell_type": "code",
      "source": [
        "# Initialize variables for largest and second largest numbers\n",
        "largest = float('-inf')\n",
        "second_largest = float('-inf')\n",
        "\n",
        "# Continuously input positive integers from the user\n",
        "while True:\n",
        "    num = int(input(\"Enter a positive integer (or 0 to stop): \"))\n",
        "\n",
        "    # Check if the input is zero\n",
        "    if num == 0:\n",
        "        break\n",
        "\n",
        "    # Update the largest and second largest numbers\n",
        "    if num > largest:\n",
        "        second_largest = largest\n",
        "        largest = num\n",
        "    elif num > second_largest:\n",
        "        second_largest = num\n",
        "\n",
        "# Check if a second largest number was found\n",
        "if second_largest == float('-inf'):\n",
        "    print(\"No second largest number was entered.\")\n",
        "else:\n",
        "    print(\"The second largest number entered is:\", second_largest)\n"
      ],
      "metadata": {
        "colab": {
          "base_uri": "https://localhost:8080/"
        },
        "id": "TfXJ38Udc3N7",
        "outputId": "1d530588-0a71-4d71-9898-37fb35a4d890"
      },
      "execution_count": 50,
      "outputs": [
        {
          "output_type": "stream",
          "name": "stdout",
          "text": [
            "Enter a positive integer (or 0 to stop): 45\n",
            "Enter a positive integer (or 0 to stop): 78\n",
            "Enter a positive integer (or 0 to stop): 86\n",
            "Enter a positive integer (or 0 to stop): 0\n",
            "The second largest number entered is: 78\n"
          ]
        }
      ]
    }
  ]
}